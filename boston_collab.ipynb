{
  "cells": [
    {
      "cell_type": "code",
      "execution_count": null,
      "id": "bd68520e",
      "metadata": {},
      "outputs": [],
      "source": [
        "\n",
        "#  Шаг 1. Импорт библиотек\n",
        "import pandas as pd\n",
        "import numpy as np\n",
        "import matplotlib.pyplot as plt\n",
        "import seaborn as sns\n",
        "from sklearn.ensemble import RandomForestRegressor\n",
        "from sklearn.model_selection import train_test_split\n",
        "from sklearn.metrics import mean_squared_error\n",
        "import joblib\n",
        "\n",
        "#  Шаг 2. Загрузка данных\n",
        "from google.colab import files\n",
        "uploaded = files.upload()  # boston.csv\n",
        "\n",
        "df = pd.read_csv(\"boston.csv\")\n",
        "df.dropna(inplace=True)\n",
        "df.head()\n"
      ]
    },
    {
      "cell_type": "code",
      "execution_count": null,
      "id": "1881dde5",
      "metadata": {},
      "outputs": [],
      "source": [
        "\n",
        "#  Шаг 3. Подготовка признаков\n",
        "COLUMNS = [\n",
        "    'CRIM', 'ZN', 'INDUS', 'CHAS', 'NOX', 'RM',\n",
        "    'AGE', 'DIS', 'RAD', 'TAX', 'PTRATIO', 'B', 'LSTAT'\n",
        "]\n",
        "\n",
        "X = df[COLUMNS]\n",
        "y = df['MEDV']\n"
      ]
    },
    {
      "cell_type": "code",
      "execution_count": null,
      "id": "23ce8eda",
      "metadata": {},
      "outputs": [],
      "source": [
        "\n",
        "#  Шаг 4. Разделение данных\n",
        "X_train, X_test, y_train, y_test = train_test_split(\n",
        "    X, y, test_size=0.2, random_state=42\n",
        ")\n"
      ]
    },
    {
      "cell_type": "code",
      "execution_count": null,
      "id": "5c0d0012",
      "metadata": {},
      "outputs": [],
      "source": [
        "\n",
        "#  Шаг 5. Обучение модели\n",
        "model = RandomForestRegressor(n_estimators=100, random_state=42)\n",
        "model.fit(X_train, y_train)\n",
        "\n",
        "y_pred = model.predict(X_test)\n",
        "rmse = mean_squared_error(y_test, y_pred, squared=False)\n",
        "\n",
        "print(f\"✅ RMSE: {rmse:.2f}\")\n"
      ]
    },
    {
      "cell_type": "code",
      "execution_count": null,
      "id": "f8aa0cef",
      "metadata": {},
      "outputs": [],
      "source": [
        "\n",
        "#  Шаг 6. График важности признаков\n",
        "importances = model.feature_importances_\n",
        "feature_df = pd.DataFrame({\n",
        "    'Feature': COLUMNS,\n",
        "    'Importance': importances\n",
        "}).sort_values(by='Importance', ascending=False)\n",
        "\n",
        "plt.figure(figsize=(10, 6))\n",
        "sns.barplot(data=feature_df, x='Importance', y='Feature', palette='coolwarm')\n",
        "plt.title(\"Важность признаков\")\n",
        "plt.tight_layout()\n",
        "plt.show()\n"
      ]
    },
    {
      "cell_type": "code",
      "execution_count": null,
      "id": "4affdcf6",
      "metadata": {},
      "outputs": [],
      "source": [
        "\n",
        "#  Шаг 7. Корреляционная матрица\n",
        "plt.figure(figsize=(12, 8))\n",
        "sns.heatmap(df.corr(), annot=True, fmt=\".2f\", cmap=\"coolwarm\")\n",
        "plt.title(\"Корреляция признаков\")\n",
        "plt.show()\n"
      ]
    },
    {
      "cell_type": "code",
      "execution_count": null,
      "id": "85e3c383",
      "metadata": {},
      "outputs": [],
      "source": [
        "\n",
        "#  Шаг 8. Предсказание для условного дома\n",
        "example_input = {\n",
        "    'CRIM': 0.1,\n",
        "    'ZN': 0.0,\n",
        "    'INDUS': 8.0,\n",
        "    'CHAS': 0,\n",
        "    'NOX': 0.5,\n",
        "    'RM': 6.0,\n",
        "    'AGE': 70.0,\n",
        "    'DIS': 3.0,\n",
        "    'RAD': 4,\n",
        "    'TAX': 300.0,\n",
        "    'PTRATIO': 18.0,\n",
        "    'B': 390.0,\n",
        "    'LSTAT': 10.0\n",
        "}\n",
        "\n",
        "input_df = pd.DataFrame([example_input])\n",
        "predicted_price = model.predict(input_df)[0]\n",
        "print(f\"💰 Предсказанная цена: ${predicted_price * 1000:.2f}\")\n"
      ]
    },
    {
      "cell_type": "code",
      "execution_count": null,
      "id": "2cbd813b",
      "metadata": {},
      "outputs": [],
      "source": [
        "\n",
        "#  Шаг 9. Сохранение модели\n",
        "joblib.dump(model, \"model_weights.mw\")\n",
        "print(\"✅ Модель сохранена как model_weights.mw\")\n"
      ]
    }
  ],
  "metadata": {
    "language_info": {
      "name": "python"
    }
  },
  "nbformat": 4,
  "nbformat_minor": 5
}
